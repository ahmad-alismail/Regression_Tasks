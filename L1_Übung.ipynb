{
 "cells": [
  {
   "cell_type": "code",
   "execution_count": 1,
   "metadata": {},
   "outputs": [],
   "source": [
    "%load_ext autoreload\n",
    "%autoreload 2"
   ]
  },
  {
   "cell_type": "markdown",
   "metadata": {},
   "source": [
    "<p align=\"center\">\n",
    "  <img src=\"imgs/QR.png\" alt=\"QR\" width=\"250\"/>\n",
    "</p>"
   ]
  },
  {
   "cell_type": "markdown",
   "metadata": {},
   "source": [
    "# Einführung in die Lineare Regression: Von der Theorie zur Praxis\n",
    "\n",
    "\n",
    "### Lernziele:\n",
    "\n",
    "1.  **Verständnis der Linearen Regression**: Sie werden das Konzept der linearen Regression und das Ziel der Minimierung der Fehlerquadratsumme (OLS) verstehen.\n",
    "\n",
    "2.  **Implementierung verschiedener Lösungsansätze**: Sie werden drei verschiedene Methoden zur Berechnung der Regressionsparameter kennenlernen und implementieren:\n",
    "    *   **Analytische Lösung**: Direkte Berechnung der Parameter mittels statistischer Formeln.\n",
    "    *   **Matrix-Form**: Lösung des Problems mit linearer Algebra.\n",
    "    *   **Gradientenverfahren**: als Ihre Hauptaufgabe: die Implementierung des Gradientenverfahrens. Dies ist ein iterativer Optimierungsalgorithmus, der die Grundlage für viele komplexe Machine-Learning-Modelle bildet.\n"
   ]
  },
  {
   "cell_type": "markdown",
   "metadata": {},
   "source": [
    "## Advertising-Datensatz: Variablen verstehen\n",
    "\n",
    "Anhand des \"Advertising\"-Datensatzes analysieren wir den Zusammenhang zwischen Werbeausgaben und Verkaufszahlen. Der Datensatz enthält Informationen aus 200 verschiedenen Märkten.\n",
    "\n",
    "### Variablen im Detail:\n",
    "\n",
    "*   **Zielvariable (abhängige Variable):**\n",
    "    *   `sales`: Die Verkäufe des Produkts in jedem Markt (in Tausend Einheiten). Dies ist die Variable, die wir vorhersagen möchten.\n",
    "\n",
    "*   **Unabhängige Variablen (Features oder Prädiktoren):**\n",
    "    *   `TV`: Das Werbebudget für das Fernsehen.\n",
    "    *   `radio`: Das Werbebudget für das Radio.\n",
    "    *   `newspaper`: Das Werbebudget für Zeitungen.\n",
    "\n",
    "### Fokus:\n",
    "\n",
    "Heute konzentrieren wir uns auf ein einfaches Modell, das nur den Zusammenhang zwischen TV-Werbung und Verkäufen betrachtet.\n",
    "-> Wir wollen herausfinden, wie die TV-Werbeausgaben die Verkaufszahlen (`sales`) beeinflussen. \n",
    "\n",
    "Dazu verwenden wir ein einfaches mathematisches Modell:\n",
    "\n",
    "$$\n",
    "\\text{sales} = \\beta_0 + \\beta_1 \\times \\text{TV}\n",
    "$$\n",
    "\n",
    "In dieser Gleichung sind:\n",
    "\n",
    "*   **β₀** der **Achsenabschnitt (Intercept)**: Der geschätzte Verkaufswert, wenn keine TV-Werbung geschaltet wird.\n",
    "*   **β₁** die **Steigung (Slope)**: zeigt, wie stark die Verkäufe steigen, wenn das TV-Budget um eine Einheit größer wird.\n",
    "\n",
    "Diese beiden Werte – β₀ und β₁ – nennt man Modellparameter. Wir wollen jetzt herausfinden, wie man die optimalen Werte für diese Parameter anhand der Daten schätzen kann."
   ]
  },
  {
   "cell_type": "code",
   "execution_count": 2,
   "metadata": {},
   "outputs": [
    {
     "data": {
      "application/vnd.microsoft.datawrangler.viewer.v0+json": {
       "columns": [
        {
         "name": "index",
         "rawType": "int64",
         "type": "integer"
        },
        {
         "name": "TV",
         "rawType": "float64",
         "type": "float"
        },
        {
         "name": "radio",
         "rawType": "float64",
         "type": "float"
        },
        {
         "name": "newspaper",
         "rawType": "float64",
         "type": "float"
        },
        {
         "name": "sales",
         "rawType": "float64",
         "type": "float"
        }
       ],
       "ref": "5c25e3d3-e00e-4db9-8d28-b702e9a184c5",
       "rows": [
        [
         "1",
         "230.1",
         "37.8",
         "69.2",
         "22.1"
        ],
        [
         "2",
         "44.5",
         "39.3",
         "45.1",
         "10.4"
        ],
        [
         "3",
         "17.2",
         "45.9",
         "69.3",
         "9.3"
        ],
        [
         "4",
         "151.5",
         "41.3",
         "58.5",
         "18.5"
        ],
        [
         "5",
         "180.8",
         "10.8",
         "58.4",
         "12.9"
        ]
       ],
       "shape": {
        "columns": 4,
        "rows": 5
       }
      },
      "text/html": [
       "<div>\n",
       "<style scoped>\n",
       "    .dataframe tbody tr th:only-of-type {\n",
       "        vertical-align: middle;\n",
       "    }\n",
       "\n",
       "    .dataframe tbody tr th {\n",
       "        vertical-align: top;\n",
       "    }\n",
       "\n",
       "    .dataframe thead th {\n",
       "        text-align: right;\n",
       "    }\n",
       "</style>\n",
       "<table border=\"1\" class=\"dataframe\">\n",
       "  <thead>\n",
       "    <tr style=\"text-align: right;\">\n",
       "      <th></th>\n",
       "      <th>TV</th>\n",
       "      <th>radio</th>\n",
       "      <th>newspaper</th>\n",
       "      <th>sales</th>\n",
       "    </tr>\n",
       "  </thead>\n",
       "  <tbody>\n",
       "    <tr>\n",
       "      <th>1</th>\n",
       "      <td>230.1</td>\n",
       "      <td>37.8</td>\n",
       "      <td>69.2</td>\n",
       "      <td>22.1</td>\n",
       "    </tr>\n",
       "    <tr>\n",
       "      <th>2</th>\n",
       "      <td>44.5</td>\n",
       "      <td>39.3</td>\n",
       "      <td>45.1</td>\n",
       "      <td>10.4</td>\n",
       "    </tr>\n",
       "    <tr>\n",
       "      <th>3</th>\n",
       "      <td>17.2</td>\n",
       "      <td>45.9</td>\n",
       "      <td>69.3</td>\n",
       "      <td>9.3</td>\n",
       "    </tr>\n",
       "    <tr>\n",
       "      <th>4</th>\n",
       "      <td>151.5</td>\n",
       "      <td>41.3</td>\n",
       "      <td>58.5</td>\n",
       "      <td>18.5</td>\n",
       "    </tr>\n",
       "    <tr>\n",
       "      <th>5</th>\n",
       "      <td>180.8</td>\n",
       "      <td>10.8</td>\n",
       "      <td>58.4</td>\n",
       "      <td>12.9</td>\n",
       "    </tr>\n",
       "  </tbody>\n",
       "</table>\n",
       "</div>"
      ],
      "text/plain": [
       "      TV  radio  newspaper  sales\n",
       "1  230.1   37.8       69.2   22.1\n",
       "2   44.5   39.3       45.1   10.4\n",
       "3   17.2   45.9       69.3    9.3\n",
       "4  151.5   41.3       58.5   18.5\n",
       "5  180.8   10.8       58.4   12.9"
      ]
     },
     "execution_count": 2,
     "metadata": {},
     "output_type": "execute_result"
    }
   ],
   "source": [
    "# Advertising-Datensatz einlesen\n",
    "import pandas as pd\n",
    "\n",
    "df = pd.read_csv('data/Advertising.csv', index_col=0)\n",
    "df.head()"
   ]
  },
  {
   "cell_type": "code",
   "execution_count": 3,
   "metadata": {},
   "outputs": [
    {
     "data": {
      "application/vnd.microsoft.datawrangler.viewer.v0+json": {
       "columns": [
        {
         "name": "index",
         "rawType": "int64",
         "type": "integer"
        },
        {
         "name": "TV",
         "rawType": "float64",
         "type": "float"
        },
        {
         "name": "sales",
         "rawType": "float64",
         "type": "float"
        }
       ],
       "ref": "38671262-cd1d-496c-99a9-2256912feb88",
       "rows": [
        [
         "1",
         "230.1",
         "22.1"
        ],
        [
         "2",
         "44.5",
         "10.4"
        ],
        [
         "3",
         "17.2",
         "9.3"
        ],
        [
         "4",
         "151.5",
         "18.5"
        ],
        [
         "5",
         "180.8",
         "12.9"
        ]
       ],
       "shape": {
        "columns": 2,
        "rows": 5
       }
      },
      "text/html": [
       "<div>\n",
       "<style scoped>\n",
       "    .dataframe tbody tr th:only-of-type {\n",
       "        vertical-align: middle;\n",
       "    }\n",
       "\n",
       "    .dataframe tbody tr th {\n",
       "        vertical-align: top;\n",
       "    }\n",
       "\n",
       "    .dataframe thead th {\n",
       "        text-align: right;\n",
       "    }\n",
       "</style>\n",
       "<table border=\"1\" class=\"dataframe\">\n",
       "  <thead>\n",
       "    <tr style=\"text-align: right;\">\n",
       "      <th></th>\n",
       "      <th>TV</th>\n",
       "      <th>sales</th>\n",
       "    </tr>\n",
       "  </thead>\n",
       "  <tbody>\n",
       "    <tr>\n",
       "      <th>1</th>\n",
       "      <td>230.1</td>\n",
       "      <td>22.1</td>\n",
       "    </tr>\n",
       "    <tr>\n",
       "      <th>2</th>\n",
       "      <td>44.5</td>\n",
       "      <td>10.4</td>\n",
       "    </tr>\n",
       "    <tr>\n",
       "      <th>3</th>\n",
       "      <td>17.2</td>\n",
       "      <td>9.3</td>\n",
       "    </tr>\n",
       "    <tr>\n",
       "      <th>4</th>\n",
       "      <td>151.5</td>\n",
       "      <td>18.5</td>\n",
       "    </tr>\n",
       "    <tr>\n",
       "      <th>5</th>\n",
       "      <td>180.8</td>\n",
       "      <td>12.9</td>\n",
       "    </tr>\n",
       "  </tbody>\n",
       "</table>\n",
       "</div>"
      ],
      "text/plain": [
       "      TV  sales\n",
       "1  230.1   22.1\n",
       "2   44.5   10.4\n",
       "3   17.2    9.3\n",
       "4  151.5   18.5\n",
       "5  180.8   12.9"
      ]
     },
     "execution_count": 3,
     "metadata": {},
     "output_type": "execute_result"
    }
   ],
   "source": [
    "# TV und Sales Spalten für weitere Analyse extrahieren\n",
    "df_tv_sales = df[['TV', 'sales']]  \n",
    "\n",
    "# Die ersten Zeilen anzeigen\n",
    "df_tv_sales.head()  "
   ]
  },
  {
   "cell_type": "code",
   "execution_count": 4,
   "metadata": {},
   "outputs": [
    {
     "data": {
      "application/vnd.plotly.v1+json": {
       "config": {
        "plotlyServerURL": "https://plot.ly"
       },
       "data": [
        {
         "hovertemplate": "TV Advertising ($)=%{x}<br>Sales=%{y}<extra></extra>",
         "legendgroup": "",
         "marker": {
          "color": "#636efa",
          "symbol": "circle"
         },
         "mode": "markers",
         "name": "",
         "orientation": "v",
         "showlegend": false,
         "type": "scatter",
         "x": {
          "bdata": "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",
          "dtype": "f8"
         },
         "xaxis": "x",
         "y": {
          "bdata": "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",
          "dtype": "f8"
         },
         "yaxis": "y"
        }
       ],
       "layout": {
        "height": 500,
        "legend": {
         "tracegroupgap": 0
        },
        "template": {
         "data": {
          "bar": [
           {
            "error_x": {
             "color": "#2a3f5f"
            },
            "error_y": {
             "color": "#2a3f5f"
            },
            "marker": {
             "line": {
              "color": "#E5ECF6",
              "width": 0.5
             },
             "pattern": {
              "fillmode": "overlay",
              "size": 10,
              "solidity": 0.2
             }
            },
            "type": "bar"
           }
          ],
          "barpolar": [
           {
            "marker": {
             "line": {
              "color": "#E5ECF6",
              "width": 0.5
             },
             "pattern": {
              "fillmode": "overlay",
              "size": 10,
              "solidity": 0.2
             }
            },
            "type": "barpolar"
           }
          ],
          "carpet": [
           {
            "aaxis": {
             "endlinecolor": "#2a3f5f",
             "gridcolor": "white",
             "linecolor": "white",
             "minorgridcolor": "white",
             "startlinecolor": "#2a3f5f"
            },
            "baxis": {
             "endlinecolor": "#2a3f5f",
             "gridcolor": "white",
             "linecolor": "white",
             "minorgridcolor": "white",
             "startlinecolor": "#2a3f5f"
            },
            "type": "carpet"
           }
          ],
          "choropleth": [
           {
            "colorbar": {
             "outlinewidth": 0,
             "ticks": ""
            },
            "type": "choropleth"
           }
          ],
          "contour": [
           {
            "colorbar": {
             "outlinewidth": 0,
             "ticks": ""
            },
            "colorscale": [
             [
              0,
              "#0d0887"
             ],
             [
              0.1111111111111111,
              "#46039f"
             ],
             [
              0.2222222222222222,
              "#7201a8"
             ],
             [
              0.3333333333333333,
              "#9c179e"
             ],
             [
              0.4444444444444444,
              "#bd3786"
             ],
             [
              0.5555555555555556,
              "#d8576b"
             ],
             [
              0.6666666666666666,
              "#ed7953"
             ],
             [
              0.7777777777777778,
              "#fb9f3a"
             ],
             [
              0.8888888888888888,
              "#fdca26"
             ],
             [
              1,
              "#f0f921"
             ]
            ],
            "type": "contour"
           }
          ],
          "contourcarpet": [
           {
            "colorbar": {
             "outlinewidth": 0,
             "ticks": ""
            },
            "type": "contourcarpet"
           }
          ],
          "heatmap": [
           {
            "colorbar": {
             "outlinewidth": 0,
             "ticks": ""
            },
            "colorscale": [
             [
              0,
              "#0d0887"
             ],
             [
              0.1111111111111111,
              "#46039f"
             ],
             [
              0.2222222222222222,
              "#7201a8"
             ],
             [
              0.3333333333333333,
              "#9c179e"
             ],
             [
              0.4444444444444444,
              "#bd3786"
             ],
             [
              0.5555555555555556,
              "#d8576b"
             ],
             [
              0.6666666666666666,
              "#ed7953"
             ],
             [
              0.7777777777777778,
              "#fb9f3a"
             ],
             [
              0.8888888888888888,
              "#fdca26"
             ],
             [
              1,
              "#f0f921"
             ]
            ],
            "type": "heatmap"
           }
          ],
          "histogram": [
           {
            "marker": {
             "pattern": {
              "fillmode": "overlay",
              "size": 10,
              "solidity": 0.2
             }
            },
            "type": "histogram"
           }
          ],
          "histogram2d": [
           {
            "colorbar": {
             "outlinewidth": 0,
             "ticks": ""
            },
            "colorscale": [
             [
              0,
              "#0d0887"
             ],
             [
              0.1111111111111111,
              "#46039f"
             ],
             [
              0.2222222222222222,
              "#7201a8"
             ],
             [
              0.3333333333333333,
              "#9c179e"
             ],
             [
              0.4444444444444444,
              "#bd3786"
             ],
             [
              0.5555555555555556,
              "#d8576b"
             ],
             [
              0.6666666666666666,
              "#ed7953"
             ],
             [
              0.7777777777777778,
              "#fb9f3a"
             ],
             [
              0.8888888888888888,
              "#fdca26"
             ],
             [
              1,
              "#f0f921"
             ]
            ],
            "type": "histogram2d"
           }
          ],
          "histogram2dcontour": [
           {
            "colorbar": {
             "outlinewidth": 0,
             "ticks": ""
            },
            "colorscale": [
             [
              0,
              "#0d0887"
             ],
             [
              0.1111111111111111,
              "#46039f"
             ],
             [
              0.2222222222222222,
              "#7201a8"
             ],
             [
              0.3333333333333333,
              "#9c179e"
             ],
             [
              0.4444444444444444,
              "#bd3786"
             ],
             [
              0.5555555555555556,
              "#d8576b"
             ],
             [
              0.6666666666666666,
              "#ed7953"
             ],
             [
              0.7777777777777778,
              "#fb9f3a"
             ],
             [
              0.8888888888888888,
              "#fdca26"
             ],
             [
              1,
              "#f0f921"
             ]
            ],
            "type": "histogram2dcontour"
           }
          ],
          "mesh3d": [
           {
            "colorbar": {
             "outlinewidth": 0,
             "ticks": ""
            },
            "type": "mesh3d"
           }
          ],
          "parcoords": [
           {
            "line": {
             "colorbar": {
              "outlinewidth": 0,
              "ticks": ""
             }
            },
            "type": "parcoords"
           }
          ],
          "pie": [
           {
            "automargin": true,
            "type": "pie"
           }
          ],
          "scatter": [
           {
            "fillpattern": {
             "fillmode": "overlay",
             "size": 10,
             "solidity": 0.2
            },
            "type": "scatter"
           }
          ],
          "scatter3d": [
           {
            "line": {
             "colorbar": {
              "outlinewidth": 0,
              "ticks": ""
             }
            },
            "marker": {
             "colorbar": {
              "outlinewidth": 0,
              "ticks": ""
             }
            },
            "type": "scatter3d"
           }
          ],
          "scattercarpet": [
           {
            "marker": {
             "colorbar": {
              "outlinewidth": 0,
              "ticks": ""
             }
            },
            "type": "scattercarpet"
           }
          ],
          "scattergeo": [
           {
            "marker": {
             "colorbar": {
              "outlinewidth": 0,
              "ticks": ""
             }
            },
            "type": "scattergeo"
           }
          ],
          "scattergl": [
           {
            "marker": {
             "colorbar": {
              "outlinewidth": 0,
              "ticks": ""
             }
            },
            "type": "scattergl"
           }
          ],
          "scattermap": [
           {
            "marker": {
             "colorbar": {
              "outlinewidth": 0,
              "ticks": ""
             }
            },
            "type": "scattermap"
           }
          ],
          "scattermapbox": [
           {
            "marker": {
             "colorbar": {
              "outlinewidth": 0,
              "ticks": ""
             }
            },
            "type": "scattermapbox"
           }
          ],
          "scatterpolar": [
           {
            "marker": {
             "colorbar": {
              "outlinewidth": 0,
              "ticks": ""
             }
            },
            "type": "scatterpolar"
           }
          ],
          "scatterpolargl": [
           {
            "marker": {
             "colorbar": {
              "outlinewidth": 0,
              "ticks": ""
             }
            },
            "type": "scatterpolargl"
           }
          ],
          "scatterternary": [
           {
            "marker": {
             "colorbar": {
              "outlinewidth": 0,
              "ticks": ""
             }
            },
            "type": "scatterternary"
           }
          ],
          "surface": [
           {
            "colorbar": {
             "outlinewidth": 0,
             "ticks": ""
            },
            "colorscale": [
             [
              0,
              "#0d0887"
             ],
             [
              0.1111111111111111,
              "#46039f"
             ],
             [
              0.2222222222222222,
              "#7201a8"
             ],
             [
              0.3333333333333333,
              "#9c179e"
             ],
             [
              0.4444444444444444,
              "#bd3786"
             ],
             [
              0.5555555555555556,
              "#d8576b"
             ],
             [
              0.6666666666666666,
              "#ed7953"
             ],
             [
              0.7777777777777778,
              "#fb9f3a"
             ],
             [
              0.8888888888888888,
              "#fdca26"
             ],
             [
              1,
              "#f0f921"
             ]
            ],
            "type": "surface"
           }
          ],
          "table": [
           {
            "cells": {
             "fill": {
              "color": "#EBF0F8"
             },
             "line": {
              "color": "white"
             }
            },
            "header": {
             "fill": {
              "color": "#C8D4E3"
             },
             "line": {
              "color": "white"
             }
            },
            "type": "table"
           }
          ]
         },
         "layout": {
          "annotationdefaults": {
           "arrowcolor": "#2a3f5f",
           "arrowhead": 0,
           "arrowwidth": 1
          },
          "autotypenumbers": "strict",
          "coloraxis": {
           "colorbar": {
            "outlinewidth": 0,
            "ticks": ""
           }
          },
          "colorscale": {
           "diverging": [
            [
             0,
             "#8e0152"
            ],
            [
             0.1,
             "#c51b7d"
            ],
            [
             0.2,
             "#de77ae"
            ],
            [
             0.3,
             "#f1b6da"
            ],
            [
             0.4,
             "#fde0ef"
            ],
            [
             0.5,
             "#f7f7f7"
            ],
            [
             0.6,
             "#e6f5d0"
            ],
            [
             0.7,
             "#b8e186"
            ],
            [
             0.8,
             "#7fbc41"
            ],
            [
             0.9,
             "#4d9221"
            ],
            [
             1,
             "#276419"
            ]
           ],
           "sequential": [
            [
             0,
             "#0d0887"
            ],
            [
             0.1111111111111111,
             "#46039f"
            ],
            [
             0.2222222222222222,
             "#7201a8"
            ],
            [
             0.3333333333333333,
             "#9c179e"
            ],
            [
             0.4444444444444444,
             "#bd3786"
            ],
            [
             0.5555555555555556,
             "#d8576b"
            ],
            [
             0.6666666666666666,
             "#ed7953"
            ],
            [
             0.7777777777777778,
             "#fb9f3a"
            ],
            [
             0.8888888888888888,
             "#fdca26"
            ],
            [
             1,
             "#f0f921"
            ]
           ],
           "sequentialminus": [
            [
             0,
             "#0d0887"
            ],
            [
             0.1111111111111111,
             "#46039f"
            ],
            [
             0.2222222222222222,
             "#7201a8"
            ],
            [
             0.3333333333333333,
             "#9c179e"
            ],
            [
             0.4444444444444444,
             "#bd3786"
            ],
            [
             0.5555555555555556,
             "#d8576b"
            ],
            [
             0.6666666666666666,
             "#ed7953"
            ],
            [
             0.7777777777777778,
             "#fb9f3a"
            ],
            [
             0.8888888888888888,
             "#fdca26"
            ],
            [
             1,
             "#f0f921"
            ]
           ]
          },
          "colorway": [
           "#636efa",
           "#EF553B",
           "#00cc96",
           "#ab63fa",
           "#FFA15A",
           "#19d3f3",
           "#FF6692",
           "#B6E880",
           "#FF97FF",
           "#FECB52"
          ],
          "font": {
           "color": "#2a3f5f"
          },
          "geo": {
           "bgcolor": "white",
           "lakecolor": "white",
           "landcolor": "#E5ECF6",
           "showlakes": true,
           "showland": true,
           "subunitcolor": "white"
          },
          "hoverlabel": {
           "align": "left"
          },
          "hovermode": "closest",
          "mapbox": {
           "style": "light"
          },
          "paper_bgcolor": "white",
          "plot_bgcolor": "#E5ECF6",
          "polar": {
           "angularaxis": {
            "gridcolor": "white",
            "linecolor": "white",
            "ticks": ""
           },
           "bgcolor": "#E5ECF6",
           "radialaxis": {
            "gridcolor": "white",
            "linecolor": "white",
            "ticks": ""
           }
          },
          "scene": {
           "xaxis": {
            "backgroundcolor": "#E5ECF6",
            "gridcolor": "white",
            "gridwidth": 2,
            "linecolor": "white",
            "showbackground": true,
            "ticks": "",
            "zerolinecolor": "white"
           },
           "yaxis": {
            "backgroundcolor": "#E5ECF6",
            "gridcolor": "white",
            "gridwidth": 2,
            "linecolor": "white",
            "showbackground": true,
            "ticks": "",
            "zerolinecolor": "white"
           },
           "zaxis": {
            "backgroundcolor": "#E5ECF6",
            "gridcolor": "white",
            "gridwidth": 2,
            "linecolor": "white",
            "showbackground": true,
            "ticks": "",
            "zerolinecolor": "white"
           }
          },
          "shapedefaults": {
           "line": {
            "color": "#2a3f5f"
           }
          },
          "ternary": {
           "aaxis": {
            "gridcolor": "white",
            "linecolor": "white",
            "ticks": ""
           },
           "baxis": {
            "gridcolor": "white",
            "linecolor": "white",
            "ticks": ""
           },
           "bgcolor": "#E5ECF6",
           "caxis": {
            "gridcolor": "white",
            "linecolor": "white",
            "ticks": ""
           }
          },
          "title": {
           "x": 0.05
          },
          "xaxis": {
           "automargin": true,
           "gridcolor": "white",
           "linecolor": "white",
           "ticks": "",
           "title": {
            "standoff": 15
           },
           "zerolinecolor": "white",
           "zerolinewidth": 2
          },
          "yaxis": {
           "automargin": true,
           "gridcolor": "white",
           "linecolor": "white",
           "ticks": "",
           "title": {
            "standoff": 15
           },
           "zerolinecolor": "white",
           "zerolinewidth": 2
          }
         }
        },
        "title": {
         "text": "TV Advertising vs Sales"
        },
        "width": 600,
        "xaxis": {
         "anchor": "y",
         "domain": [
          0,
          1
         ],
         "title": {
          "font": {
           "size": 18
          },
          "text": "TV Advertising ($)"
         }
        },
        "yaxis": {
         "anchor": "x",
         "domain": [
          0,
          1
         ],
         "title": {
          "font": {
           "size": 18
          },
          "text": "Sales"
         }
        }
       }
      }
     },
     "metadata": {},
     "output_type": "display_data"
    }
   ],
   "source": [
    "# Scatterplot für TV vs Sales erstellen\n",
    "import plotly.express as px\n",
    "fig = px.scatter(df_tv_sales, x='TV', y='sales', title='TV Advertising vs Sales',\n",
    "                 labels={'TV': 'TV Advertising ($)', 'sales': 'Sales'})\n",
    "fig.update_layout(\n",
    "    width=600,\n",
    "    height=500,\n",
    "    xaxis_title_font=dict(size=18),\n",
    "    yaxis_title_font=dict(size=18)\n",
    ")\n",
    "fig.show()"
   ]
  },
  {
   "cell_type": "markdown",
   "metadata": {},
   "source": [
    "Unsere Aufgabe ist es, die **beste Gerade** zu finden, die die Verkäufe anhand des TV-Werbebudgets vorhersagt.\n",
    "\n",
    "$$\n",
    "\\hat{y} = \\hat{\\beta}_0 + \\hat{\\beta}_1 x\n",
    "$$\n",
    "\n",
    "Das bedeutet: Wir suchen einen **Achsenabschnitt** $\\hat{\\beta}_0$ und eine **Steigung** $\\hat{\\beta}_1$, sodass die Linie möglichst nah an den n = 200 Datenpunkten liegt.\n",
    "\n",
    "👉 Dafür nutzen wir das Kleinste-Quadrate-Kriterium (Ordinary Least Squares, OLS)\n",
    "\n",
    "---\n",
    "\n",
    "### Ordinary Least Squares (OLS):"
   ]
  },
  {
   "cell_type": "code",
   "execution_count": 5,
   "metadata": {},
   "outputs": [
    {
     "data": {
      "application/vnd.jupyter.widget-view+json": {
       "model_id": "9181bdb855b542f08d0c1919241135dc",
       "version_major": 2,
       "version_minor": 0
      },
      "text/plain": [
       "VBox(children=(HTML(value=\"\\n                <div style='background: linear-gradient(135deg, #667eea 0%, #764b…"
      ]
     },
     "metadata": {},
     "output_type": "display_data"
    }
   ],
   "source": [
    "# OLS - Sowohl allgemein als auch TV Sales in einem Tool!\n",
    "from utils.least_squares_visualizer import run_combined_visualizer\n",
    "\n",
    "\n",
    "combined_viz = run_combined_visualizer(df_tv_sales)"
   ]
  },
  {
   "cell_type": "markdown",
   "metadata": {},
   "source": [
    "## Fehlerquadratsumme (SSE) minimieren\n",
    "\n",
    "Wir wollen die **Summe der quadrierten Fehler (SSE)** so klein wie möglich machen:\n",
    "\n",
    "$$\n",
    "SSE = \\sum_{i=1}^{n} (y_i - \\hat{y}_i)^2 \n",
    "     = \\sum_{i=1}^{n} (y_i - \\beta_0 - \\beta_1 x_i)^2\n",
    "$$"
   ]
  },
  {
   "cell_type": "markdown",
   "metadata": {},
   "source": [
    "**Wie bestimmen wir β₀ und β₁, die SSE minimieren?**\n",
    "\n",
    "### **OLS: Statistischer Ansatz (Ableitungsbasiert)**\n",
    "\n",
    "1. **Idee:**\n",
    "\n",
    "   * SSE nach β₀ und β₁ **ableiten**,\n",
    "   * Gleichungen = 0 setzen → **Normalgleichungen**.\n",
    "\n",
    "2. **Lösung:**\n",
    "\n",
    "   * **Steigung (β₁):**\n",
    "\n",
    "     $$\n",
    "     \\hat{\\beta}_1 = \\frac{\\sum (x_i - \\bar{x})(y_i - \\bar{y})}{\\sum (x_i - \\bar{x})^2} \n",
    "     = \\frac{\\text{Cov}(X,Y)}{\\text{Var}(X)}\n",
    "     $$\n",
    "   * **Achsenabschnitt (β₀):**\n",
    "\n",
    "     $$\n",
    "     \\hat{\\beta}_0 = \\bar{y} - \\hat{\\beta}_1 \\bar{x}\n",
    "     $$\n",
    "\n",
    "3. **Finales Modell:**\n",
    "\n",
    "   $$\n",
    "   \\hat{y} = \\hat{\\beta}_0 + \\hat{\\beta}_1 x\n",
    "   $$\n",
    "\n",
    "👉 $\\hat{\\beta}_0, \\hat{\\beta}_1$ sind **Schätzwerte** für die unbekannten wahren Parameter.\n",
    "\n",
    "\n"
   ]
  },
  {
   "cell_type": "code",
   "execution_count": null,
   "metadata": {},
   "outputs": [],
   "source": [
    "# Analytische Lösung für OLS-Regression\n",
    "import numpy as np\n",
    "def ols_analytical(X, y):\n",
    "    \"\"\"\n",
    "    Berechnet den Achsenabschnitt und die Steigung einer einfachen linearen Regression \n",
    "    mit der analytischen Lösung.\n",
    "    Parameter:\n",
    "    X : numpy array oder pandas Series\n",
    "        Die unabhängige Variable (Prädiktor).\n",
    "    y : numpy array oder pandas Series\n",
    "        Die abhängige Variable (Zielvariable).\n",
    "    Rückgabe:\n",
    "    intercept : float\n",
    "        Der Achsenabschnitt der Regressionsgerade.\n",
    "    slope : float\n",
    "        Die Steigung der Regressionsgerade.\n",
    "    \"\"\"\n",
    "    # YOUR CODE HERE            \n",
    "    \n",
    "    return intercept, slope"
   ]
  },
  {
   "cell_type": "code",
   "execution_count": null,
   "metadata": {},
   "outputs": [],
   "source": [
    "import numpy as np\n",
    "X = df_tv_sales['TV']\n",
    "y = df_tv_sales['sales']\n",
    "\n",
    "\n",
    "beta_0, beta_1 = ols_analytical(X, y)\n",
    "\n",
    "print(f\"Intercept: {beta_0}, Slope: {beta_1}\")\n",
    "\n",
    "# Vorhergesagte Sales-Spalte erstellen\n",
    "y_hat = beta_0 + beta_1 * df_tv_sales['TV']"
   ]
  },
  {
   "cell_type": "code",
   "execution_count": 8,
   "metadata": {},
   "outputs": [
    {
     "data": {
      "application/vnd.plotly.v1+json": {
       "config": {
        "plotlyServerURL": "https://plot.ly"
       },
       "data": [
        {
         "hovertemplate": "TV Advertising ($)=%{x}<br>Sales=%{y}<extra></extra>",
         "legendgroup": "",
         "marker": {
          "color": "#636efa",
          "symbol": "circle"
         },
         "mode": "markers",
         "name": "",
         "orientation": "v",
         "showlegend": false,
         "type": "scatter",
         "x": {
          "bdata": "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",
          "dtype": "f8"
         },
         "xaxis": "x",
         "y": {
          "bdata": "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",
          "dtype": "f8"
         },
         "yaxis": "y"
        },
        {
         "line": {
          "color": "red"
         },
         "mode": "lines",
         "name": "Fitted Line",
         "type": "scatter",
         "x": {
          "bdata": "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",
          "dtype": "f8"
         },
         "y": {
          "bdata": "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",
          "dtype": "f8"
         }
        }
       ],
       "layout": {
        "height": 500,
        "legend": {
         "tracegroupgap": 0
        },
        "template": {
         "data": {
          "bar": [
           {
            "error_x": {
             "color": "#2a3f5f"
            },
            "error_y": {
             "color": "#2a3f5f"
            },
            "marker": {
             "line": {
              "color": "#E5ECF6",
              "width": 0.5
             },
             "pattern": {
              "fillmode": "overlay",
              "size": 10,
              "solidity": 0.2
             }
            },
            "type": "bar"
           }
          ],
          "barpolar": [
           {
            "marker": {
             "line": {
              "color": "#E5ECF6",
              "width": 0.5
             },
             "pattern": {
              "fillmode": "overlay",
              "size": 10,
              "solidity": 0.2
             }
            },
            "type": "barpolar"
           }
          ],
          "carpet": [
           {
            "aaxis": {
             "endlinecolor": "#2a3f5f",
             "gridcolor": "white",
             "linecolor": "white",
             "minorgridcolor": "white",
             "startlinecolor": "#2a3f5f"
            },
            "baxis": {
             "endlinecolor": "#2a3f5f",
             "gridcolor": "white",
             "linecolor": "white",
             "minorgridcolor": "white",
             "startlinecolor": "#2a3f5f"
            },
            "type": "carpet"
           }
          ],
          "choropleth": [
           {
            "colorbar": {
             "outlinewidth": 0,
             "ticks": ""
            },
            "type": "choropleth"
           }
          ],
          "contour": [
           {
            "colorbar": {
             "outlinewidth": 0,
             "ticks": ""
            },
            "colorscale": [
             [
              0,
              "#0d0887"
             ],
             [
              0.1111111111111111,
              "#46039f"
             ],
             [
              0.2222222222222222,
              "#7201a8"
             ],
             [
              0.3333333333333333,
              "#9c179e"
             ],
             [
              0.4444444444444444,
              "#bd3786"
             ],
             [
              0.5555555555555556,
              "#d8576b"
             ],
             [
              0.6666666666666666,
              "#ed7953"
             ],
             [
              0.7777777777777778,
              "#fb9f3a"
             ],
             [
              0.8888888888888888,
              "#fdca26"
             ],
             [
              1,
              "#f0f921"
             ]
            ],
            "type": "contour"
           }
          ],
          "contourcarpet": [
           {
            "colorbar": {
             "outlinewidth": 0,
             "ticks": ""
            },
            "type": "contourcarpet"
           }
          ],
          "heatmap": [
           {
            "colorbar": {
             "outlinewidth": 0,
             "ticks": ""
            },
            "colorscale": [
             [
              0,
              "#0d0887"
             ],
             [
              0.1111111111111111,
              "#46039f"
             ],
             [
              0.2222222222222222,
              "#7201a8"
             ],
             [
              0.3333333333333333,
              "#9c179e"
             ],
             [
              0.4444444444444444,
              "#bd3786"
             ],
             [
              0.5555555555555556,
              "#d8576b"
             ],
             [
              0.6666666666666666,
              "#ed7953"
             ],
             [
              0.7777777777777778,
              "#fb9f3a"
             ],
             [
              0.8888888888888888,
              "#fdca26"
             ],
             [
              1,
              "#f0f921"
             ]
            ],
            "type": "heatmap"
           }
          ],
          "histogram": [
           {
            "marker": {
             "pattern": {
              "fillmode": "overlay",
              "size": 10,
              "solidity": 0.2
             }
            },
            "type": "histogram"
           }
          ],
          "histogram2d": [
           {
            "colorbar": {
             "outlinewidth": 0,
             "ticks": ""
            },
            "colorscale": [
             [
              0,
              "#0d0887"
             ],
             [
              0.1111111111111111,
              "#46039f"
             ],
             [
              0.2222222222222222,
              "#7201a8"
             ],
             [
              0.3333333333333333,
              "#9c179e"
             ],
             [
              0.4444444444444444,
              "#bd3786"
             ],
             [
              0.5555555555555556,
              "#d8576b"
             ],
             [
              0.6666666666666666,
              "#ed7953"
             ],
             [
              0.7777777777777778,
              "#fb9f3a"
             ],
             [
              0.8888888888888888,
              "#fdca26"
             ],
             [
              1,
              "#f0f921"
             ]
            ],
            "type": "histogram2d"
           }
          ],
          "histogram2dcontour": [
           {
            "colorbar": {
             "outlinewidth": 0,
             "ticks": ""
            },
            "colorscale": [
             [
              0,
              "#0d0887"
             ],
             [
              0.1111111111111111,
              "#46039f"
             ],
             [
              0.2222222222222222,
              "#7201a8"
             ],
             [
              0.3333333333333333,
              "#9c179e"
             ],
             [
              0.4444444444444444,
              "#bd3786"
             ],
             [
              0.5555555555555556,
              "#d8576b"
             ],
             [
              0.6666666666666666,
              "#ed7953"
             ],
             [
              0.7777777777777778,
              "#fb9f3a"
             ],
             [
              0.8888888888888888,
              "#fdca26"
             ],
             [
              1,
              "#f0f921"
             ]
            ],
            "type": "histogram2dcontour"
           }
          ],
          "mesh3d": [
           {
            "colorbar": {
             "outlinewidth": 0,
             "ticks": ""
            },
            "type": "mesh3d"
           }
          ],
          "parcoords": [
           {
            "line": {
             "colorbar": {
              "outlinewidth": 0,
              "ticks": ""
             }
            },
            "type": "parcoords"
           }
          ],
          "pie": [
           {
            "automargin": true,
            "type": "pie"
           }
          ],
          "scatter": [
           {
            "fillpattern": {
             "fillmode": "overlay",
             "size": 10,
             "solidity": 0.2
            },
            "type": "scatter"
           }
          ],
          "scatter3d": [
           {
            "line": {
             "colorbar": {
              "outlinewidth": 0,
              "ticks": ""
             }
            },
            "marker": {
             "colorbar": {
              "outlinewidth": 0,
              "ticks": ""
             }
            },
            "type": "scatter3d"
           }
          ],
          "scattercarpet": [
           {
            "marker": {
             "colorbar": {
              "outlinewidth": 0,
              "ticks": ""
             }
            },
            "type": "scattercarpet"
           }
          ],
          "scattergeo": [
           {
            "marker": {
             "colorbar": {
              "outlinewidth": 0,
              "ticks": ""
             }
            },
            "type": "scattergeo"
           }
          ],
          "scattergl": [
           {
            "marker": {
             "colorbar": {
              "outlinewidth": 0,
              "ticks": ""
             }
            },
            "type": "scattergl"
           }
          ],
          "scattermap": [
           {
            "marker": {
             "colorbar": {
              "outlinewidth": 0,
              "ticks": ""
             }
            },
            "type": "scattermap"
           }
          ],
          "scattermapbox": [
           {
            "marker": {
             "colorbar": {
              "outlinewidth": 0,
              "ticks": ""
             }
            },
            "type": "scattermapbox"
           }
          ],
          "scatterpolar": [
           {
            "marker": {
             "colorbar": {
              "outlinewidth": 0,
              "ticks": ""
             }
            },
            "type": "scatterpolar"
           }
          ],
          "scatterpolargl": [
           {
            "marker": {
             "colorbar": {
              "outlinewidth": 0,
              "ticks": ""
             }
            },
            "type": "scatterpolargl"
           }
          ],
          "scatterternary": [
           {
            "marker": {
             "colorbar": {
              "outlinewidth": 0,
              "ticks": ""
             }
            },
            "type": "scatterternary"
           }
          ],
          "surface": [
           {
            "colorbar": {
             "outlinewidth": 0,
             "ticks": ""
            },
            "colorscale": [
             [
              0,
              "#0d0887"
             ],
             [
              0.1111111111111111,
              "#46039f"
             ],
             [
              0.2222222222222222,
              "#7201a8"
             ],
             [
              0.3333333333333333,
              "#9c179e"
             ],
             [
              0.4444444444444444,
              "#bd3786"
             ],
             [
              0.5555555555555556,
              "#d8576b"
             ],
             [
              0.6666666666666666,
              "#ed7953"
             ],
             [
              0.7777777777777778,
              "#fb9f3a"
             ],
             [
              0.8888888888888888,
              "#fdca26"
             ],
             [
              1,
              "#f0f921"
             ]
            ],
            "type": "surface"
           }
          ],
          "table": [
           {
            "cells": {
             "fill": {
              "color": "#EBF0F8"
             },
             "line": {
              "color": "white"
             }
            },
            "header": {
             "fill": {
              "color": "#C8D4E3"
             },
             "line": {
              "color": "white"
             }
            },
            "type": "table"
           }
          ]
         },
         "layout": {
          "annotationdefaults": {
           "arrowcolor": "#2a3f5f",
           "arrowhead": 0,
           "arrowwidth": 1
          },
          "autotypenumbers": "strict",
          "coloraxis": {
           "colorbar": {
            "outlinewidth": 0,
            "ticks": ""
           }
          },
          "colorscale": {
           "diverging": [
            [
             0,
             "#8e0152"
            ],
            [
             0.1,
             "#c51b7d"
            ],
            [
             0.2,
             "#de77ae"
            ],
            [
             0.3,
             "#f1b6da"
            ],
            [
             0.4,
             "#fde0ef"
            ],
            [
             0.5,
             "#f7f7f7"
            ],
            [
             0.6,
             "#e6f5d0"
            ],
            [
             0.7,
             "#b8e186"
            ],
            [
             0.8,
             "#7fbc41"
            ],
            [
             0.9,
             "#4d9221"
            ],
            [
             1,
             "#276419"
            ]
           ],
           "sequential": [
            [
             0,
             "#0d0887"
            ],
            [
             0.1111111111111111,
             "#46039f"
            ],
            [
             0.2222222222222222,
             "#7201a8"
            ],
            [
             0.3333333333333333,
             "#9c179e"
            ],
            [
             0.4444444444444444,
             "#bd3786"
            ],
            [
             0.5555555555555556,
             "#d8576b"
            ],
            [
             0.6666666666666666,
             "#ed7953"
            ],
            [
             0.7777777777777778,
             "#fb9f3a"
            ],
            [
             0.8888888888888888,
             "#fdca26"
            ],
            [
             1,
             "#f0f921"
            ]
           ],
           "sequentialminus": [
            [
             0,
             "#0d0887"
            ],
            [
             0.1111111111111111,
             "#46039f"
            ],
            [
             0.2222222222222222,
             "#7201a8"
            ],
            [
             0.3333333333333333,
             "#9c179e"
            ],
            [
             0.4444444444444444,
             "#bd3786"
            ],
            [
             0.5555555555555556,
             "#d8576b"
            ],
            [
             0.6666666666666666,
             "#ed7953"
            ],
            [
             0.7777777777777778,
             "#fb9f3a"
            ],
            [
             0.8888888888888888,
             "#fdca26"
            ],
            [
             1,
             "#f0f921"
            ]
           ]
          },
          "colorway": [
           "#636efa",
           "#EF553B",
           "#00cc96",
           "#ab63fa",
           "#FFA15A",
           "#19d3f3",
           "#FF6692",
           "#B6E880",
           "#FF97FF",
           "#FECB52"
          ],
          "font": {
           "color": "#2a3f5f"
          },
          "geo": {
           "bgcolor": "white",
           "lakecolor": "white",
           "landcolor": "#E5ECF6",
           "showlakes": true,
           "showland": true,
           "subunitcolor": "white"
          },
          "hoverlabel": {
           "align": "left"
          },
          "hovermode": "closest",
          "mapbox": {
           "style": "light"
          },
          "paper_bgcolor": "white",
          "plot_bgcolor": "#E5ECF6",
          "polar": {
           "angularaxis": {
            "gridcolor": "white",
            "linecolor": "white",
            "ticks": ""
           },
           "bgcolor": "#E5ECF6",
           "radialaxis": {
            "gridcolor": "white",
            "linecolor": "white",
            "ticks": ""
           }
          },
          "scene": {
           "xaxis": {
            "backgroundcolor": "#E5ECF6",
            "gridcolor": "white",
            "gridwidth": 2,
            "linecolor": "white",
            "showbackground": true,
            "ticks": "",
            "zerolinecolor": "white"
           },
           "yaxis": {
            "backgroundcolor": "#E5ECF6",
            "gridcolor": "white",
            "gridwidth": 2,
            "linecolor": "white",
            "showbackground": true,
            "ticks": "",
            "zerolinecolor": "white"
           },
           "zaxis": {
            "backgroundcolor": "#E5ECF6",
            "gridcolor": "white",
            "gridwidth": 2,
            "linecolor": "white",
            "showbackground": true,
            "ticks": "",
            "zerolinecolor": "white"
           }
          },
          "shapedefaults": {
           "line": {
            "color": "#2a3f5f"
           }
          },
          "ternary": {
           "aaxis": {
            "gridcolor": "white",
            "linecolor": "white",
            "ticks": ""
           },
           "baxis": {
            "gridcolor": "white",
            "linecolor": "white",
            "ticks": ""
           },
           "bgcolor": "#E5ECF6",
           "caxis": {
            "gridcolor": "white",
            "linecolor": "white",
            "ticks": ""
           }
          },
          "title": {
           "x": 0.05
          },
          "xaxis": {
           "automargin": true,
           "gridcolor": "white",
           "linecolor": "white",
           "ticks": "",
           "title": {
            "standoff": 15
           },
           "zerolinecolor": "white",
           "zerolinewidth": 2
          },
          "yaxis": {
           "automargin": true,
           "gridcolor": "white",
           "linecolor": "white",
           "ticks": "",
           "title": {
            "standoff": 15
           },
           "zerolinecolor": "white",
           "zerolinewidth": 2
          }
         }
        },
        "title": {
         "text": "TV Advertising vs Sales"
        },
        "width": 600,
        "xaxis": {
         "anchor": "y",
         "domain": [
          0,
          1
         ],
         "title": {
          "font": {
           "size": 18
          },
          "text": "TV Advertising ($)"
         }
        },
        "yaxis": {
         "anchor": "x",
         "domain": [
          0,
          1
         ],
         "title": {
          "font": {
           "size": 18
          },
          "text": "Sales"
         }
        }
       }
      }
     },
     "metadata": {},
     "output_type": "display_data"
    }
   ],
   "source": [
    "# Scatterplot von TV vs Sales und die angepasste Linie mit plotly erstellen\n",
    "import plotly.express as px\n",
    "fig = px.scatter(df_tv_sales, x='TV', y='sales', title='TV Advertising vs Sales',\n",
    "                 labels={'TV': 'TV Advertising ($)', 'sales': 'Sales'})\n",
    "fig.add_scatter(x=X, y=y_hat, mode='lines', name='Fitted Line', line=dict(color='red'))\n",
    "fig.update_layout(\n",
    "    width=600,\n",
    "    height=500,\n",
    "    xaxis_title_font=dict(size=18),\n",
    "    yaxis_title_font=dict(size=18)\n",
    ")\n",
    "fig.show()"
   ]
  },
  {
   "cell_type": "markdown",
   "metadata": {},
   "source": [
    "Die vorherige Abbildung zeigt die Anpassung der einfachen linearen Regression an die *Advertising*-Daten, wobei $\\hat{\\beta}_0 = 7.03$ und $\\hat{\\beta}_1 = 0.0475$ sind. Mit anderen Worten: Nach diesem Modell ist eine zusätzliche Ausgabe von **1.000 $** für TV-Werbung mit einer **Erhöhung des Verkaufs um etwa 47,5 Tausend Dollar** verbunden.\n"
   ]
  },
  {
   "cell_type": "markdown",
   "metadata": {},
   "source": [
    "### 2. OLS – Lineare Algebra Ansatz (Matrix-Form)\n",
    "\n",
    "Mit **Matrixschreibweise** können wir das Regressionsproblem allgemein darstellen.\n",
    "Das macht es leichter, später auf **multiple Regression** zu erweitern.\n",
    "\n",
    "Ziel: Wir wollen die **besten Schätzungen** finden für\n",
    "\n",
    "$$\n",
    "\\hat{\\beta}_0 \\quad \\text{und} \\quad \\hat{\\beta}_1\n",
    "$$\n",
    "\n",
    "(das sind Achsenabschnitt und Steigung).\n",
    "\n",
    "\n",
    "#### Matrix-Formulierung\n",
    "\n",
    "$$\n",
    "\\mathbf{y} = \\mathbf{X} \\hat{\\boldsymbol{\\beta}} \n",
    "$$\n",
    "\n",
    "* **y** = Zielvektor $(n \\times 1)$\n",
    "* **X** = Designmatrix $(n \\times 2)$, enthält eine Spalte mit Einsen für den Achsenabschnitt\n",
    "* **β** = Parametervektor $(2 \\times 1)$\n",
    "\n",
    "\n",
    "$$\n",
    "\\hat{\\boldsymbol{\\beta}} = \n",
    "\\begin{bmatrix} \n",
    "\\hat{\\beta}_0 \\\\ \n",
    "\\hat{\\beta}_1 \n",
    "\\end{bmatrix}, \\quad \n",
    "\\mathbf{X} = \n",
    "\\begin{bmatrix} \n",
    "1 & x_1 \\\\ \n",
    "1 & x_2 \\\\ \n",
    "\\vdots & \\vdots \\\\ \n",
    "1 & x_n \n",
    "\\end{bmatrix}, \\quad \n",
    "\\mathbf{y} = \n",
    "\\begin{bmatrix} \n",
    "y_1 \\\\ \n",
    "y_2 \\\\ \n",
    "\\vdots \\\\ \n",
    "y_n \n",
    "\\end{bmatrix}\n",
    "$$\n",
    "\n",
    "#### Normalengleichung\n",
    "\n",
    "$$\n",
    "\\hat{\\boldsymbol{\\beta}} = (\\mathbf{X}^T \\mathbf{X})^{-1} \\mathbf{X}^T \\mathbf{y}\n",
    "$$"
   ]
  },
  {
   "cell_type": "code",
   "execution_count": null,
   "metadata": {},
   "outputs": [],
   "source": [
    "def ols_matrix_form(X, y):\n",
    "    \"\"\"    \n",
    "    Berechnet den Achsenabschnitt und die Steigung einer einfachen linearen Regression \n",
    "    mit der Matrixform der Normalengleichung.\n",
    "    Parameter:\n",
    "    X : numpy array oder pandas Series\n",
    "        Die unabhängige Variable (Prädiktor).\n",
    "    y : numpy array oder pandas Series\n",
    "        Die abhängige Variable (Zielvariable).\n",
    "    Rückgabe:\n",
    "    intercept : float\n",
    "        Der Achsenabschnitt der Regressionsgerade.\n",
    "    slope : float\n",
    "        Die Steigung der Regressionsgerade.\n",
    "    \"\"\"\n",
    "    # In Matrixformat konvertieren: y = Xβ + ε\n",
    "    # Wobei β = [intercept, slope]\n",
    "    X_matrix = np.column_stack([np.ones(len(X)), X])  # Spalte mit Einsen hinzufügen\n",
    "                                                      # Erstellt 2D-Matrix\n",
    "\n",
    "    \n",
    "    # Normalengleichung: β = (X'X)⁻¹X'y\n",
    "    # YOUR CODE HERE\n",
    "    \n",
    "    return intercept, slope"
   ]
  },
  {
   "cell_type": "code",
   "execution_count": null,
   "metadata": {},
   "outputs": [],
   "source": [
    "X = df_tv_sales['TV']\n",
    "y = df_tv_sales['sales']\n",
    "\n",
    "\n",
    "beta_0, beta_1 = ols_matrix_form(X, y)\n",
    "\n",
    "print(f\"Intercept: {beta_0}, Slope: {beta_1}\")\n",
    "\n",
    "# Vorhergesagte Sales-Spalte erstellen\n",
    "y_hat = beta_0 + beta_1 * df_tv_sales['TV']"
   ]
  },
  {
   "cell_type": "markdown",
   "metadata": {},
   "source": [
    "👉 Vorteil vom Matrix-Ansatz:\n",
    "Er findet die optimale Lösung immer exakt.\n",
    "Nachteil: Bei sehr großen Datensätzen ist das Rechnen mit der Inversen sehr teuer.\n",
    "Und manchmal kann die Matrix gar nicht invertiert werden.\n",
    "Darum nutzt man in solchen Fällen **iterative Methoden**."
   ]
  },
  {
   "cell_type": "markdown",
   "metadata": {},
   "source": [
    "### 3. OLS: Iterative Methoden (Gradient Descent)\n",
    "\n",
    "Im Gegensatz zu **analytischen Lösungen** wie der Normalengleichung, die das Ergebnis in einem Schritt berechnen, sind **Gradient Descent Methoden** **iterative Verfahren**.\n",
    "Das heißt: Die Parameter werden Schritt für Schritt verbessert, bis der **Fehler möglichst klein** ist.\n",
    "\n",
    "\n",
    "#### Mathematische Grundlage\n",
    "\n",
    "**Ziel:** Kostenfunktion minimieren\n",
    "\n",
    "$$\n",
    "J(\\hat{\\beta}_0, \\hat{\\beta}_1) = \\frac{1}{n} \\sum_{i=1}^{n} (y_i - (\\hat{\\beta}_0 + \\hat{\\beta}_1 x_i))^2\n",
    "$$\n",
    "\n",
    "\n",
    "#### **Gradientenabstiegs-Algorithmus**\n",
    "\n",
    "1. **Parameter initialisieren** $\\hat{\\beta}_0, \\hat{\\beta}_1$ (z. B. Nullen oder Zufallswerte).  \n",
    "2. **beginnt eine Schleife:**\n",
    "\n",
    "   1. **Gradienten berechnen** der Kostenfunktion bezüglich jedes Parameters:  \n",
    "   > Wie stark ändert sich der Fehler, wenn wir einen der Parameter verändern? Das nennt man den **Gradienten** – also die Steigung der Kostenfunktion.\n",
    "   > Für den Achsenabschnitt $\\hat{\\beta}_0$ und für die Steigung $\\hat{\\beta}_1$ gibt es jeweils eine Formel:\n",
    "\n",
    "      Für $\\hat{\\beta}_0$ (Achsenabschnitt):  \n",
    "      $$\n",
    "      \\frac{\\partial J}{\\partial \\hat{\\beta}_0} = \\frac{2}{n} \\sum_{i=1}^{n} -(y_i - (\\hat{\\beta}_0 + \\hat{\\beta}_1 x_i))\n",
    "      $$\n",
    "\n",
    "      Für $\\hat{\\beta}_1$ (Steigung):  \n",
    "      $$\n",
    "      \\frac{\\partial J}{\\partial \\hat{\\beta}_1} = \\frac{2}{n} \\sum_{i=1}^{n} -x_i(y_i - (\\hat{\\beta}_0 + \\hat{\\beta}_1 x_i))\n",
    "      $$\n",
    "\n",
    "   2. **Parameter aktualisieren** (Update-Regel):  \n",
    "   > Wir passen die Parameter an – also wir gehen einen kleinen Schritt in die Richtung, in der der Fehler kleiner wird.  \n",
    "      $$\n",
    "      \\hat{\\beta}_0^{(new)} = \\hat{\\beta}_0^{(old)} - \\alpha \\frac{\\partial J}{\\partial \\hat{\\beta}_0}\n",
    "      $$\n",
    "\n",
    "      $$\n",
    "      \\hat{\\beta}_1^{(new)} = \\hat{\\beta}_1^{(old)} - \\alpha \\frac{\\partial J}{\\partial \\hat{\\beta}_1}\n",
    "      $$ \n",
    "\n",
    "      Der Gradient zeigt uns **wie stark und in welche Richtung** sich die Kosten ändern, wenn sich der Parameter verändert:  \n",
    "\n",
    "      * Ist der Gradient **positiv**, verringere $\\hat{\\beta}_j$ (nach links gehen).  \n",
    "      * Ist der Gradient **negativ**, erhöhe $\\hat{\\beta}_j$ (nach rechts gehen).  \n",
    "\n",
    "   4. **Neuen Fehlerwert berechnen** $J(\\hat{\\beta}_0, \\hat{\\beta}_1)$.  \n",
    "   5. **Abbruchbedingung prüfen** (Kostenänderung < Toleranz oder maximale Iterationen erreicht).  \n",
    "\n",
    "\n",
    "#### **Aufgabe: Implementierung**\n",
    "\n",
    "Implementieren Sie Gradientenverfahren für lineare Regression."
   ]
  },
  {
   "cell_type": "code",
   "execution_count": 11,
   "metadata": {},
   "outputs": [],
   "source": [
    "def ols_gradient_descent(X, y, learning_rate=0.0001, max_iterations=10000):\n",
    "    \"\"\"\n",
    "    Implementierung des Gradientenabstiegs für lineare Regression mit MSE-Kostenfunktion.\n",
    "    \n",
    "    Parameter:\n",
    "    X : array-like, shape (n_samples,)\n",
    "        Die unabhängige Variable (Prädiktor)\n",
    "    y : array-like, shape (n_samples,)\n",
    "        Die abhängige Variable (Zielwert)\n",
    "    learning_rate : float, default=0.0001\n",
    "        Schrittgröße für den Gradientenabstieg\n",
    "    max_iterations : int, default=10000\n",
    "        Maximale Anzahl der Iterationen\n",
    "    \n",
    "    Rückgabe:\n",
    "    intercept : float\n",
    "        Der Achsenabschnitt der Regressionsgerade (β₀)\n",
    "    slope : float\n",
    "        Die Steigung der Regressionsgerade (β₁)\n",
    "    \n",
    "    Tipps:\n",
    "    1. Initialisieren Sie beide Parameter (Steigung und Achsenabschnitt) mit 0\n",
    "    2. Für jede Iteration:\n",
    "       - Berechnen Sie Vorhersagen mit aktuellen Parametern: ŷ = β₀ + β₁ * X\n",
    "       - Berechnen Sie Gradienten für beide Parameter:\n",
    "         * Für Steigung (β₁): ∂J/∂β₁ = (-2/n) * Σ[X_i * (y_i - ŷ_i)]\n",
    "         * Für Achsenabschnitt (β₀): ∂J/∂β₀ = (-2/n) * Σ[(y_i - ŷ_i)]\n",
    "       - Aktualisieren Sie Parameter: β_neu = β_alt - Lernrate * Gradient\n",
    "    3. Die Anzahl der Stichproben n = len(X)\n",
    "    4. Verwenden Sie np.sum() für die Gradientenberechnung\n",
    "    \"\"\"\n",
    "    \n",
    "    # TODO: Parameter initialisieren\n",
    "    beta_0 = 0  # Achsenabschnitt\n",
    "    beta_1 = 0  # Steigung\n",
    "\n",
    "    # TODO: Anzahl der Stichproben ermitteln\n",
    "    \n",
    "    \n",
    "    # TODO: Gradientenabstieg-Schleife implementieren\n",
    "    # Tipp: Verwenden Sie eine for-Schleife mit max_iterations\n",
    "    for i in range(max_iterations):\n",
    "        # TODO: Vorhersagen berechnen\n",
    "        \n",
    "        \n",
    "        # TODO: Gradient für Steigung (β₁) berechnen\n",
    "        \n",
    "        \n",
    "        # TODO: Gradient für Achsenabschnitt (β₀) berechnen\n",
    "        \n",
    "        \n",
    "        # TODO: Parameter mit Gradientenabstieg-Regel aktualisieren\n",
    "        \n",
    "        \n",
    "        pass\n",
    "    \n",
    "    # TODO: Die finalen Parameter zurückgeben\n",
    "    # Tipp: return achsenabschnitt, steigung\n",
    "    pass\n",
    "\n"
   ]
  },
  {
   "cell_type": "code",
   "execution_count": 13,
   "metadata": {},
   "outputs": [
    {
     "name": "stderr",
     "output_type": "stream",
     "text": [
      "c:\\Users\\afi89\\Documents\\Students\\Machine Learning\\Regression_Tasks\\.venv\\lib\\site-packages\\numpy\\_core\\_methods.py:52: RuntimeWarning:\n",
      "\n",
      "overflow encountered in reduce\n",
      "\n",
      "C:\\Users\\afi89\\AppData\\Local\\Temp\\ipykernel_26012\\183192252.py:57: RuntimeWarning:\n",
      "\n",
      "invalid value encountered in scalar subtract\n",
      "\n"
     ]
    },
    {
     "name": "stdout",
     "output_type": "stream",
     "text": [
      "Achsenabschnitt: inf, Steigung: nan\n"
     ]
    }
   ],
   "source": [
    "# Testen Sie Ihre Implementierung\n",
    "X = df_tv_sales['TV']\n",
    "y = df_tv_sales['sales']\n",
    "beta_0, beta_1 = ols_gradient_descent(X, y)\n",
    "print(f\"Achsenabschnitt: {beta_0:.4f}, Steigung: {beta_1:.4f}\")"
   ]
  },
  {
   "cell_type": "markdown",
   "metadata": {},
   "source": [
    "Haben Sie das folgende Output?:\n",
    "```python\n",
    "invalid value encountered in scalar subtract\n",
    "\n",
    "Achsenabschnitt: inf, Steigung: nan\n",
    "```\n",
    "\n",
    "Die Implementierung war nicht optimal, da es zu numerischen Überläufen kommt (die Gradienten werden zu groß und verursachen ein \"Explodieren\" der Parameter). Daher verwenden wir Feature-Skalierung:\n",
    "\n",
    "### Warum passiert das?\n",
    "\n",
    "Das Problem liegt in den **unterschiedlichen Größenordnungen** der Daten:\n",
    "- **TV-Werbebudget**: Werte zwischen 0 und 300 (Größenordnung: Hunderte)\n",
    "- **Verkäufe**: Werte zwischen 1 und 27 (Größenordnung: Zehner)\n",
    "\n",
    "Ohne Skalierung werden die Gradienten sehr groß, besonders für β₁ (TV-Koeffizient), da: \n",
    "- ∂J/∂β₁:`d_beta_1 = (-2/n) * np.sum(X * (y - y_pred))`\n",
    "- Hier wird X (TV-Werte bis 300) mit den Residuen multipliziert\n",
    "\n",
    "### Die Lösung: Feature-Skalierung\n",
    "\n",
    "**Feature-Skalierung** transformiert die Variablen so, dass sie ähnliche Wertebereiche haben. Dies:\n",
    "- **Verhindert numerische Instabilität**\n",
    "- **Beschleunigt die Konvergenz** des Gradientenabstiegs\n",
    "- **Ermöglicht größere Lernraten** ohne Divergenz\n",
    "\n",
    "**Wichtiger Hinweis**: Nach der Skalierung müssen die Parameter zurück auf die ursprüngliche Skala transformiert werden, damit die Interpretation stimmt.\n",
    "\n",
    "Die folgende sichere Implementierung verwendet **Standardisierung** (Z-Score-Normalisierung):"
   ]
  },
  {
   "cell_type": "code",
   "execution_count": 14,
   "metadata": {},
   "outputs": [],
   "source": [
    "def ols_gradient_descent_safe(X, y, learning_rate=0.01, max_iterations=10000):\n",
    "    \"\"\"\n",
    "    Sichere Implementierung des Gradientenabstiegs für lineare Regression mit Feature-Skalierung.\n",
    "    \n",
    "    Parameter:\n",
    "    X : array-like, shape (n_samples,)\n",
    "        Die unabhängige Variable (Prädiktor)\n",
    "    y : array-like, shape (n_samples,)\n",
    "        Die abhängige Variable (Zielwert)\n",
    "    learning_rate : float, default=0.01\n",
    "        Schrittgröße für den Gradientenabstieg\n",
    "    max_iterations : int, default=10000\n",
    "        Maximale Anzahl der Iterationen\n",
    "    \n",
    "    Rückgabe:\n",
    "    intercept : float\n",
    "        Der Achsenabschnitt der Regressionsgerade (β₀)\n",
    "    slope : float\n",
    "        Die Steigung der Regressionsgerade (β₁)\n",
    "    \"\"\"\n",
    "    # Feature-Skalierung - X standardisieren\n",
    "    X_mean = np.mean(X)\n",
    "    X_std = np.std(X)\n",
    "    X_scaled = (X - X_mean) / X_std # Z-Score-Normalisierung\n",
    "    \n",
    "    # Y ebenfalls skalieren für bessere numerische Stabilität\n",
    "    y_mean = np.mean(y)\n",
    "    y_scaled = y - y_mean           # Nur zentrieren, keine Division\n",
    "    \n",
    "    # Parameter initialisieren\n",
    "    beta_1 = 0  # Steigung\n",
    "    beta_0 = 0  # Achsenabschnitt\n",
    "    n = len(X_scaled)  # Anzahl der Stichproben\n",
    "    \n",
    "    # Gradientenabstieg mit skalierten Features\n",
    "    for i in range(max_iterations):\n",
    "        # Vorhersagen mit aktuellen Parametern berechnen\n",
    "        y_pred = beta_0 + beta_1 * X_scaled\n",
    "        \n",
    "        # Gradienten für beide Parameter berechnen\n",
    "        d_beta_1 = (-2/n) * np.sum(X_scaled * (y_scaled - y_pred))\n",
    "        d_beta_0 = (-2/n) * np.sum(y_scaled - y_pred)\n",
    "        \n",
    "        # Parameter mit Gradientenabstieg-Regel aktualisieren\n",
    "        beta_1 = beta_1 - learning_rate * d_beta_1\n",
    "        beta_0 = beta_0 - learning_rate * d_beta_0\n",
    "    \n",
    "    # Parameter zurück auf die ursprüngliche Skala transformieren\n",
    "    beta_1_original = beta_1 / X_std\n",
    "    beta_0_original = (beta_0 + y_mean) - beta_1_original * X_mean\n",
    "    \n",
    "    return beta_0_original, beta_1_original"
   ]
  },
  {
   "cell_type": "code",
   "execution_count": 15,
   "metadata": {},
   "outputs": [
    {
     "name": "stdout",
     "output_type": "stream",
     "text": [
      "Achsenabschnitt: 7.0326, Steigung: 0.0475\n"
     ]
    }
   ],
   "source": [
    "# Testen Sie Ihre Implementierung\n",
    "X = df_tv_sales['TV']\n",
    "y = df_tv_sales['sales']\n",
    "beta_0, beta_1 = ols_gradient_descent_safe(X, y)\n",
    "print(f\"Achsenabschnitt: {beta_0:.4f}, Steigung: {beta_1:.4f}\")"
   ]
  },
  {
   "cell_type": "markdown",
   "metadata": {},
   "source": []
  }
 ],
 "metadata": {
  "celltoolbar": "Slideshow",
  "kernelspec": {
   "display_name": ".venv",
   "language": "python",
   "name": "python3"
  },
  "language_info": {
   "codemirror_mode": {
    "name": "ipython",
    "version": 3
   },
   "file_extension": ".py",
   "mimetype": "text/x-python",
   "name": "python",
   "nbconvert_exporter": "python",
   "pygments_lexer": "ipython3",
   "version": "3.10.8"
  }
 },
 "nbformat": 4,
 "nbformat_minor": 2
}
